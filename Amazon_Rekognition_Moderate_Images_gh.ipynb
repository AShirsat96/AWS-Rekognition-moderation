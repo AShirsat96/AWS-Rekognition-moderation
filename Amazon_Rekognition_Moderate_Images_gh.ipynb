{
 "cells": [
  {
   "cell_type": "code",
   "execution_count": 11,
   "id": "b11b5c3b",
   "metadata": {},
   "outputs": [],
   "source": [
    "# Install once only - python official library from AWS\n",
    "# !pip install boto3"
   ]
  },
  {
   "cell_type": "markdown",
   "id": "a9d5e6c4",
   "metadata": {},
   "source": [
    "### define configuration"
   ]
  },
  {
   "cell_type": "code",
   "execution_count": 12,
   "id": "65c62153",
   "metadata": {},
   "outputs": [],
   "source": [
    "aws_accesskey = <Your Access Key>\n",
    "aws_secretaccess = <Your secret access key>\n",
    "myregion= <your region>"
   ]
  },
  {
   "cell_type": "code",
   "execution_count": 13,
   "id": "a68921b6",
   "metadata": {},
   "outputs": [],
   "source": [
    "import boto3"
   ]
  },
  {
   "cell_type": "code",
   "execution_count": 22,
   "id": "e2996eef",
   "metadata": {},
   "outputs": [],
   "source": [
    "def Moderate_Image(aws_access,aws_secret, aws_region,photo_name,bucket_name):\n",
    "    Rekognition_client = boto3.client('rekognition',aws_access_key_id=aws_access, aws_secret_access_key=aws_secret, region_name =aws_region)\n",
    "    response = Rekognition_client.detect_moderation_labels(Image={'S3Object':{'Bucket':bucket_name,'Name':photo_name}})\n",
    "    print('Detected labels for ' + photo_name)\n",
    "    for label in response['ModerationLabels']:\n",
    "        print (label['Name'] + ' : ' + str(label['Confidence']))\n",
    "        print (label['ParentName'])\n",
    "    return len(response['ModerationLabels'])"
   ]
  },
  {
   "cell_type": "code",
   "execution_count": 23,
   "id": "b05c46fe",
   "metadata": {},
   "outputs": [
    {
     "name": "stdout",
     "output_type": "stream",
     "text": [
      "Detected labels for IMG_20221220_121601.jpg\n"
     ]
    },
    {
     "data": {
      "text/plain": [
       "0"
      ]
     },
     "execution_count": 23,
     "metadata": {},
     "output_type": "execute_result"
    }
   ],
   "source": [
    "Moderate_Image(aws_accesskey,aws_secretaccess,myregion,'IMG_20221220_121601.jpg',<your s3 bucket name>)"
   ]
  },
  {
   "cell_type": "code",
   "execution_count": 24,
   "id": "9aa1d397",
   "metadata": {},
   "outputs": [
    {
     "name": "stdout",
     "output_type": "stream",
     "text": [
      "Detected labels for Smoking.jpg\n",
      "Smoking : 96.02770233154297\n",
      "Drug & Tobacco Paraphernalia & Use\n",
      "Drug & Tobacco Paraphernalia & Use : 96.02770233154297\n",
      "Drugs & Tobacco\n",
      "Drugs & Tobacco : 96.02770233154297\n",
      "\n"
     ]
    },
    {
     "data": {
      "text/plain": [
       "3"
      ]
     },
     "execution_count": 24,
     "metadata": {},
     "output_type": "execute_result"
    }
   ],
   "source": [
    "Moderate_Image(aws_accesskey,aws_secretaccess,myregion,'Smoking.jpg',<your s3 bucket name>)"
   ]
  },
  {
   "cell_type": "code",
   "execution_count": null,
   "id": "2cbd2b1e",
   "metadata": {},
   "outputs": [],
   "source": []
  }
 ],
 "metadata": {
  "kernelspec": {
   "display_name": "Python 3",
   "language": "python",
   "name": "python3"
  },
  "language_info": {
   "codemirror_mode": {
    "name": "ipython",
    "version": 3
   },
   "file_extension": ".py",
   "mimetype": "text/x-python",
   "name": "python",
   "nbconvert_exporter": "python",
   "pygments_lexer": "ipython3",
   "version": "3.8.8"
  }
 },
 "nbformat": 4,
 "nbformat_minor": 5
}
